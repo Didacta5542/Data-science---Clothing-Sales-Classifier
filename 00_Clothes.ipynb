{
 "cells": [
  {
   "cell_type": "code",
   "execution_count": 75,
   "metadata": {},
   "outputs": [],
   "source": [
    "import pandas as pd\n",
    "import numpy as np\n",
    "import seaborn as sns\n",
    "import matplotlib.pyplot as plt\n",
    "\n",
    "from sklearn.model_selection import train_test_split\n",
    "from sklearn.preprocessing import LabelEncoder, StandardScaler\n",
    "from sklearn.ensemble import RandomForestClassifier\n",
    "from sklearn.model_selection import GridSearchCV\n",
    "from sklearn.metrics import accuracy_score, classification_report"
   ]
  },
  {
   "cell_type": "code",
   "execution_count": 46,
   "metadata": {},
   "outputs": [
    {
     "data": {
      "text/html": [
       "<div>\n",
       "<style scoped>\n",
       "    .dataframe tbody tr th:only-of-type {\n",
       "        vertical-align: middle;\n",
       "    }\n",
       "\n",
       "    .dataframe tbody tr th {\n",
       "        vertical-align: top;\n",
       "    }\n",
       "\n",
       "    .dataframe thead th {\n",
       "        text-align: right;\n",
       "    }\n",
       "</style>\n",
       "<table border=\"1\" class=\"dataframe\">\n",
       "  <thead>\n",
       "    <tr style=\"text-align: right;\">\n",
       "      <th></th>\n",
       "      <th>Fecha</th>\n",
       "      <th>Precio_Camiseta</th>\n",
       "      <th>Precio_Pantalones</th>\n",
       "      <th>Precio_Chaqueta</th>\n",
       "      <th>Descuento_Camiseta</th>\n",
       "      <th>Descuento_Pantalones</th>\n",
       "      <th>Descuento_Chaqueta</th>\n",
       "      <th>Unidades_Vendidas_Camiseta</th>\n",
       "      <th>Unidades_Vendidas_Pantalones</th>\n",
       "      <th>Unidades_Vendidas_Chaqueta</th>\n",
       "      <th>Color_Camiseta</th>\n",
       "      <th>Color_Pantalones</th>\n",
       "      <th>Color_Chaqueta</th>\n",
       "    </tr>\n",
       "  </thead>\n",
       "  <tbody>\n",
       "    <tr>\n",
       "      <th>0</th>\n",
       "      <td>2023-01-01</td>\n",
       "      <td>24.981605</td>\n",
       "      <td>52.101582</td>\n",
       "      <td>37.218671</td>\n",
       "      <td>0.084468</td>\n",
       "      <td>0.353619</td>\n",
       "      <td>0.092566</td>\n",
       "      <td>24</td>\n",
       "      <td>22</td>\n",
       "      <td>26</td>\n",
       "      <td>Verde</td>\n",
       "      <td>Blanco</td>\n",
       "      <td>Rojo</td>\n",
       "    </tr>\n",
       "    <tr>\n",
       "      <th>1</th>\n",
       "      <td>2023-01-02</td>\n",
       "      <td>48.028572</td>\n",
       "      <td>24.206998</td>\n",
       "      <td>93.178703</td>\n",
       "      <td>0.139295</td>\n",
       "      <td>0.076270</td>\n",
       "      <td>0.270950</td>\n",
       "      <td>20</td>\n",
       "      <td>22</td>\n",
       "      <td>23</td>\n",
       "      <td>Blanco</td>\n",
       "      <td>Negro</td>\n",
       "      <td>Azul</td>\n",
       "    </tr>\n",
       "    <tr>\n",
       "      <th>2</th>\n",
       "      <td>2023-01-03</td>\n",
       "      <td>39.279758</td>\n",
       "      <td>28.081436</td>\n",
       "      <td>65.367666</td>\n",
       "      <td>0.088505</td>\n",
       "      <td>0.288144</td>\n",
       "      <td>0.436473</td>\n",
       "      <td>22</td>\n",
       "      <td>15</td>\n",
       "      <td>13</td>\n",
       "      <td>Rojo</td>\n",
       "      <td>Azul</td>\n",
       "      <td>Blanco</td>\n",
       "    </tr>\n",
       "    <tr>\n",
       "      <th>3</th>\n",
       "      <td>2023-01-04</td>\n",
       "      <td>33.946339</td>\n",
       "      <td>64.927709</td>\n",
       "      <td>87.852023</td>\n",
       "      <td>0.044351</td>\n",
       "      <td>0.303358</td>\n",
       "      <td>0.366112</td>\n",
       "      <td>19</td>\n",
       "      <td>24</td>\n",
       "      <td>17</td>\n",
       "      <td>Blanco</td>\n",
       "      <td>Blanco</td>\n",
       "      <td>Azul</td>\n",
       "    </tr>\n",
       "    <tr>\n",
       "      <th>4</th>\n",
       "      <td>2023-01-05</td>\n",
       "      <td>16.240746</td>\n",
       "      <td>50.321453</td>\n",
       "      <td>52.403472</td>\n",
       "      <td>0.060318</td>\n",
       "      <td>0.212065</td>\n",
       "      <td>0.403281</td>\n",
       "      <td>15</td>\n",
       "      <td>11</td>\n",
       "      <td>17</td>\n",
       "      <td>Azul</td>\n",
       "      <td>Blanco</td>\n",
       "      <td>Rojo</td>\n",
       "    </tr>\n",
       "  </tbody>\n",
       "</table>\n",
       "</div>"
      ],
      "text/plain": [
       "       Fecha  Precio_Camiseta  Precio_Pantalones  Precio_Chaqueta  \\\n",
       "0 2023-01-01        24.981605          52.101582        37.218671   \n",
       "1 2023-01-02        48.028572          24.206998        93.178703   \n",
       "2 2023-01-03        39.279758          28.081436        65.367666   \n",
       "3 2023-01-04        33.946339          64.927709        87.852023   \n",
       "4 2023-01-05        16.240746          50.321453        52.403472   \n",
       "\n",
       "   Descuento_Camiseta  Descuento_Pantalones  Descuento_Chaqueta  \\\n",
       "0            0.084468              0.353619            0.092566   \n",
       "1            0.139295              0.076270            0.270950   \n",
       "2            0.088505              0.288144            0.436473   \n",
       "3            0.044351              0.303358            0.366112   \n",
       "4            0.060318              0.212065            0.403281   \n",
       "\n",
       "   Unidades_Vendidas_Camiseta  Unidades_Vendidas_Pantalones  \\\n",
       "0                          24                            22   \n",
       "1                          20                            22   \n",
       "2                          22                            15   \n",
       "3                          19                            24   \n",
       "4                          15                            11   \n",
       "\n",
       "   Unidades_Vendidas_Chaqueta Color_Camiseta Color_Pantalones Color_Chaqueta  \n",
       "0                          26          Verde           Blanco           Rojo  \n",
       "1                          23         Blanco            Negro           Azul  \n",
       "2                          13           Rojo             Azul         Blanco  \n",
       "3                          17         Blanco           Blanco           Azul  \n",
       "4                          17           Azul           Blanco           Rojo  "
      ]
     },
     "execution_count": 46,
     "metadata": {},
     "output_type": "execute_result"
    }
   ],
   "source": [
    "# Paso 1: Crear un dataset simulado\n",
    "np.random.seed(42)\n",
    "colors = ['Rojo', 'Azul', 'Verde', 'Negro', 'Blanco']\n",
    "data = {\n",
    "    'Fecha': pd.date_range(start='2023-01-01', periods=200, freq='D'),\n",
    "    'Precio_Camiseta': np.random.uniform(10, 50, 200),\n",
    "    'Precio_Pantalones': np.random.uniform(20, 70, 200),\n",
    "    'Precio_Chaqueta': np.random.uniform(30, 100, 200),\n",
    "    'Descuento_Camiseta': np.random.uniform(0, 0.5, 200),\n",
    "    'Descuento_Pantalones': np.random.uniform(0, 0.5, 200),\n",
    "    'Descuento_Chaqueta': np.random.uniform(0, 0.5, 200),\n",
    "    'Unidades_Vendidas_Camiseta': np.random.poisson(20, 200),\n",
    "    #'Unidades_Vendidas_Pantalones': np.random.poisson(15, 200),\n",
    "    'Unidades_Vendidas_Pantalones': np.random.poisson(20, 200),\n",
    "    #'Unidades_Vendidas_Chaqueta': np.random.poisson(10, 200),\n",
    "    'Unidades_Vendidas_Chaqueta': np.random.poisson(20, 200),\n",
    "    'Color_Camiseta': np.random.choice(colors, 200),\n",
    "    'Color_Pantalones': np.random.choice(colors, 200),\n",
    "    'Color_Chaqueta': np.random.choice(colors, 200)\n",
    "}\n",
    "\n",
    "df = pd.DataFrame(data)\n",
    "df.head()"
   ]
  },
  {
   "cell_type": "code",
   "execution_count": 47,
   "metadata": {},
   "outputs": [
    {
     "data": {
      "text/plain": [
       "(200, 13)"
      ]
     },
     "execution_count": 47,
     "metadata": {},
     "output_type": "execute_result"
    }
   ],
   "source": [
    "df.shape"
   ]
  },
  {
   "cell_type": "code",
   "execution_count": 48,
   "metadata": {},
   "outputs": [
    {
     "name": "stdout",
     "output_type": "stream",
     "text": [
      "<class 'pandas.core.frame.DataFrame'>\n",
      "RangeIndex: 200 entries, 0 to 199\n",
      "Data columns (total 13 columns):\n",
      " #   Column                        Non-Null Count  Dtype         \n",
      "---  ------                        --------------  -----         \n",
      " 0   Fecha                         200 non-null    datetime64[ns]\n",
      " 1   Precio_Camiseta               200 non-null    float64       \n",
      " 2   Precio_Pantalones             200 non-null    float64       \n",
      " 3   Precio_Chaqueta               200 non-null    float64       \n",
      " 4   Descuento_Camiseta            200 non-null    float64       \n",
      " 5   Descuento_Pantalones          200 non-null    float64       \n",
      " 6   Descuento_Chaqueta            200 non-null    float64       \n",
      " 7   Unidades_Vendidas_Camiseta    200 non-null    int32         \n",
      " 8   Unidades_Vendidas_Pantalones  200 non-null    int32         \n",
      " 9   Unidades_Vendidas_Chaqueta    200 non-null    int32         \n",
      " 10  Color_Camiseta                200 non-null    object        \n",
      " 11  Color_Pantalones              200 non-null    object        \n",
      " 12  Color_Chaqueta                200 non-null    object        \n",
      "dtypes: datetime64[ns](1), float64(6), int32(3), object(3)\n",
      "memory usage: 18.1+ KB\n"
     ]
    }
   ],
   "source": [
    "df.info()"
   ]
  },
  {
   "cell_type": "code",
   "execution_count": 49,
   "metadata": {},
   "outputs": [
    {
     "data": {
      "text/plain": [
       "Fecha                           0.0\n",
       "Precio_Camiseta                 0.0\n",
       "Precio_Pantalones               0.0\n",
       "Precio_Chaqueta                 0.0\n",
       "Descuento_Camiseta              0.0\n",
       "Descuento_Pantalones            0.0\n",
       "Descuento_Chaqueta              0.0\n",
       "Unidades_Vendidas_Camiseta      0.0\n",
       "Unidades_Vendidas_Pantalones    0.0\n",
       "Unidades_Vendidas_Chaqueta      0.0\n",
       "Color_Camiseta                  0.0\n",
       "Color_Pantalones                0.0\n",
       "Color_Chaqueta                  0.0\n",
       "dtype: float64"
      ]
     },
     "execution_count": 49,
     "metadata": {},
     "output_type": "execute_result"
    }
   ],
   "source": [
    "df.isnull().sum()/len(df)"
   ]
  },
  {
   "cell_type": "code",
   "execution_count": 50,
   "metadata": {},
   "outputs": [
    {
     "data": {
      "text/plain": [
       "0"
      ]
     },
     "execution_count": 50,
     "metadata": {},
     "output_type": "execute_result"
    }
   ],
   "source": [
    "df.duplicated().sum()"
   ]
  },
  {
   "cell_type": "code",
   "execution_count": 51,
   "metadata": {},
   "outputs": [
    {
     "data": {
      "text/plain": [
       "Index(['Precio_Camiseta', 'Precio_Pantalones', 'Precio_Chaqueta',\n",
       "       'Descuento_Camiseta', 'Descuento_Pantalones', 'Descuento_Chaqueta',\n",
       "       'Unidades_Vendidas_Camiseta', 'Unidades_Vendidas_Pantalones',\n",
       "       'Unidades_Vendidas_Chaqueta'],\n",
       "      dtype='object')"
      ]
     },
     "execution_count": 51,
     "metadata": {},
     "output_type": "execute_result"
    }
   ],
   "source": [
    "cols = df.select_dtypes(include = \"number\").columns\n",
    "cols"
   ]
  },
  {
   "cell_type": "code",
   "execution_count": 52,
   "metadata": {},
   "outputs": [
    {
     "data": {
      "image/png": "[encoded data removed]",
      "text/plain": [
       "<Figure size 640x480 with 1 Axes>"
      ]
     },
     "metadata": {},
     "output_type": "display_data"
    },
    {
     "data": {
      "image/png": "[encoded data removed]",
      "text/plain": [
       "<Figure size 640x480 with 1 Axes>"
      ]
     },
     "metadata": {},
     "output_type": "display_data"
    },
    {
     "data": {
      "image/png": "[encoded data removed]",
      "text/plain": [
       "<Figure size 640x480 with 1 Axes>"
      ]
     },
     "metadata": {},
     "output_type": "display_data"
    },
    {
     "data": {
      "image/png": "[encoded data removed]",
      "text/plain": [
       "<Figure size 640x480 with 1 Axes>"
      ]
     },
     "metadata": {},
     "output_type": "display_data"
    },
    {
     "data": {
      "image/png": "[encoded data removed]",
      "text/plain": [
       "<Figure size 640x480 with 1 Axes>"
      ]
     },
     "metadata": {},
     "output_type": "display_data"
    },
    {
     "data": {
      "image/png": "[encoded data removed]",
      "text/plain": [
       "<Figure size 640x480 with 1 Axes>"
      ]
     },
     "metadata": {},
     "output_type": "display_data"
    },
    {
     "data": {
      "image/png": "[encoded data removed]",
      "text/plain": [
       "<Figure size 640x480 with 1 Axes>"
      ]
     },
     "metadata": {},
     "output_type": "display_data"
    },
    {
     "data": {
      "image/png": "[encoded data removed]",
      "text/plain": [
       "<Figure size 640x480 with 1 Axes>"
      ]
     },
     "metadata": {},
     "output_type": "display_data"
    },
    {
     "data": {
      "image/png": "[encoded data removed]",
      "text/plain": [
       "<Figure size 640x480 with 1 Axes>"
      ]
     },
     "metadata": {},
     "output_type": "display_data"
    }
   ],
   "source": [
    "for i in cols:\n",
    "    sns.histplot(data = df, x = i, color = \"red\")\n",
    "    plt.show()"
   ]
  },
  {
   "cell_type": "code",
   "execution_count": 54,
   "metadata": {},
   "outputs": [
    {
     "data": {
      "image/png": "[encoded data removed]",
      "text/plain": [
       "<Figure size 640x480 with 1 Axes>"
      ]
     },
     "metadata": {},
     "output_type": "display_data"
    },
    {
     "data": {
      "image/png": "[encoded data removed]",
      "text/plain": [
       "<Figure size 640x480 with 1 Axes>"
      ]
     },
     "metadata": {},
     "output_type": "display_data"
    },
    {
     "data": {
      "image/png": "[encoded data removed]",
      "text/plain": [
       "<Figure size 640x480 with 1 Axes>"
      ]
     },
     "metadata": {},
     "output_type": "display_data"
    },
    {
     "data": {
      "image/png": "[encoded data removed]",
      "text/plain": [
       "<Figure size 640x480 with 1 Axes>"
      ]
     },
     "metadata": {},
     "output_type": "display_data"
    },
    {
     "data": {
      "image/png": "[encoded data removed]",
      "text/plain": [
       "<Figure size 640x480 with 1 Axes>"
      ]
     },
     "metadata": {},
     "output_type": "display_data"
    },
    {
     "data": {
      "image/png": "[encoded data removed]",
      "text/plain": [
       "<Figure size 640x480 with 1 Axes>"
      ]
     },
     "metadata": {},
     "output_type": "display_data"
    },
    {
     "data": {
      "image/png": "[encoded data removed]",
      "text/plain": [
       "<Figure size 640x480 with 1 Axes>"
      ]
     },
     "metadata": {},
     "output_type": "display_data"
    },
    {
     "data": {
      "image/png": "[encoded data removed]",
      "text/plain": [
       "<Figure size 640x480 with 1 Axes>"
      ]
     },
     "metadata": {},
     "output_type": "display_data"
    },
    {
     "data": {
      "image/png": "[encoded data removed]",
      "text/plain": [
       "<Figure size 640x480 with 1 Axes>"
      ]
     },
     "metadata": {},
     "output_type": "display_data"
    }
   ],
   "source": [
    "for i in cols:\n",
    "    sns.boxplot(data = df, x = i, color = \"green\")\n",
    "    plt.show()"
   ]
  },
  {
   "cell_type": "markdown",
   "metadata": {},
   "source": [
    "treatment"
   ]
  },
  {
   "cell_type": "code",
   "execution_count": 55,
   "metadata": {},
   "outputs": [],
   "source": [
    "def wisker(col):\n",
    "    q1, q3 = np.percentile(col, [25,75])\n",
    "    iqr = q3 - q1\n",
    "    lw = q1 - (1.5)*iqr\n",
    "    uw = q3 + (1.5)*iqr\n",
    "    return lw, uw"
   ]
  },
  {
   "cell_type": "code",
   "execution_count": 56,
   "metadata": {},
   "outputs": [],
   "source": [
    "for i in df.select_dtypes(include = \"number\").columns:\n",
    "    lw, uw = wisker(df[i])\n",
    "    df[i] = np.where(df[i]<lw, lw, df[i])\n",
    "    df[i] = np.where(df[i]>uw, uw, df[i])"
   ]
  },
  {
   "cell_type": "code",
   "execution_count": 57,
   "metadata": {},
   "outputs": [
    {
     "data": {
      "image/png": "[encoded data removed]",
      "text/plain": [
       "<Figure size 640x480 with 1 Axes>"
      ]
     },
     "metadata": {},
     "output_type": "display_data"
    },
    {
     "data": {
      "image/png": "[encoded data removed]",
      "text/plain": [
       "<Figure size 640x480 with 1 Axes>"
      ]
     },
     "metadata": {},
     "output_type": "display_data"
    },
    {
     "data": {
      "image/png": "[encoded data removed]",
      "text/plain": [
       "<Figure size 640x480 with 1 Axes>"
      ]
     },
     "metadata": {},
     "output_type": "display_data"
    },
    {
     "data": {
      "image/png": "[encoded data removed]",
      "text/plain": [
       "<Figure size 640x480 with 1 Axes>"
      ]
     },
     "metadata": {},
     "output_type": "display_data"
    },
    {
     "data": {
      "image/png": "[encoded data removed]",
      "text/plain": [
       "<Figure size 640x480 with 1 Axes>"
      ]
     },
     "metadata": {},
     "output_type": "display_data"
    },
    {
     "data": {
      "image/png": "[encoded data removed]",
      "text/plain": [
       "<Figure size 640x480 with 1 Axes>"
      ]
     },
     "metadata": {},
     "output_type": "display_data"
    },
    {
     "data": {
      "image/png": "[encoded data removed]",
      "text/plain": [
       "<Figure size 640x480 with 1 Axes>"
      ]
     },
     "metadata": {},
     "output_type": "display_data"
    },
    {
     "data": {
      "image/png": "[encoded data removed]",
      "text/plain": [
       "<Figure size 640x480 with 1 Axes>"
      ]
     },
     "metadata": {},
     "output_type": "display_data"
    },
    {
     "data": {
      "image/png": "[encoded data removed]",
      "text/plain": [
       "<Figure size 640x480 with 1 Axes>"
      ]
     },
     "metadata": {},
     "output_type": "display_data"
    }
   ],
   "source": [
    "for i in df.select_dtypes(include = \"number\").columns:\n",
    "    sns.boxplot(data = df, x = i, color = \"blue\")\n",
    "    plt.show()"
   ]
  },
  {
   "cell_type": "code",
   "execution_count": 58,
   "metadata": {},
   "outputs": [
    {
     "data": {
      "text/html": [
       "<div>\n",
       "<style scoped>\n",
       "    .dataframe tbody tr th:only-of-type {\n",
       "        vertical-align: middle;\n",
       "    }\n",
       "\n",
       "    .dataframe tbody tr th {\n",
       "        vertical-align: top;\n",
       "    }\n",
       "\n",
       "    .dataframe thead th {\n",
       "        text-align: right;\n",
       "    }\n",
       "</style>\n",
       "<table border=\"1\" class=\"dataframe\">\n",
       "  <thead>\n",
       "    <tr style=\"text-align: right;\">\n",
       "      <th></th>\n",
       "      <th>Fecha</th>\n",
       "      <th>Precio_Camiseta</th>\n",
       "      <th>Precio_Pantalones</th>\n",
       "      <th>Precio_Chaqueta</th>\n",
       "      <th>Descuento_Camiseta</th>\n",
       "      <th>Descuento_Pantalones</th>\n",
       "      <th>Descuento_Chaqueta</th>\n",
       "      <th>Unidades_Vendidas_Camiseta</th>\n",
       "      <th>Unidades_Vendidas_Pantalones</th>\n",
       "      <th>Unidades_Vendidas_Chaqueta</th>\n",
       "      <th>Color_Camiseta</th>\n",
       "      <th>Color_Pantalones</th>\n",
       "      <th>Color_Chaqueta</th>\n",
       "      <th>Prenda_Mas_Vendida</th>\n",
       "    </tr>\n",
       "  </thead>\n",
       "  <tbody>\n",
       "    <tr>\n",
       "      <th>0</th>\n",
       "      <td>2023-01-01</td>\n",
       "      <td>24.981605</td>\n",
       "      <td>52.101582</td>\n",
       "      <td>37.218671</td>\n",
       "      <td>0.084468</td>\n",
       "      <td>0.353619</td>\n",
       "      <td>0.092566</td>\n",
       "      <td>24.0</td>\n",
       "      <td>22.0</td>\n",
       "      <td>26.0</td>\n",
       "      <td>Verde</td>\n",
       "      <td>Blanco</td>\n",
       "      <td>Rojo</td>\n",
       "      <td>Unidades_Vendidas_Chaqueta</td>\n",
       "    </tr>\n",
       "    <tr>\n",
       "      <th>1</th>\n",
       "      <td>2023-01-02</td>\n",
       "      <td>48.028572</td>\n",
       "      <td>24.206998</td>\n",
       "      <td>93.178703</td>\n",
       "      <td>0.139295</td>\n",
       "      <td>0.076270</td>\n",
       "      <td>0.270950</td>\n",
       "      <td>20.0</td>\n",
       "      <td>22.0</td>\n",
       "      <td>23.0</td>\n",
       "      <td>Blanco</td>\n",
       "      <td>Negro</td>\n",
       "      <td>Azul</td>\n",
       "      <td>Unidades_Vendidas_Chaqueta</td>\n",
       "    </tr>\n",
       "    <tr>\n",
       "      <th>2</th>\n",
       "      <td>2023-01-03</td>\n",
       "      <td>39.279758</td>\n",
       "      <td>28.081436</td>\n",
       "      <td>65.367666</td>\n",
       "      <td>0.088505</td>\n",
       "      <td>0.288144</td>\n",
       "      <td>0.436473</td>\n",
       "      <td>22.0</td>\n",
       "      <td>15.0</td>\n",
       "      <td>13.0</td>\n",
       "      <td>Rojo</td>\n",
       "      <td>Azul</td>\n",
       "      <td>Blanco</td>\n",
       "      <td>Unidades_Vendidas_Camiseta</td>\n",
       "    </tr>\n",
       "    <tr>\n",
       "      <th>3</th>\n",
       "      <td>2023-01-04</td>\n",
       "      <td>33.946339</td>\n",
       "      <td>64.927709</td>\n",
       "      <td>87.852023</td>\n",
       "      <td>0.044351</td>\n",
       "      <td>0.303358</td>\n",
       "      <td>0.366112</td>\n",
       "      <td>19.0</td>\n",
       "      <td>24.0</td>\n",
       "      <td>17.0</td>\n",
       "      <td>Blanco</td>\n",
       "      <td>Blanco</td>\n",
       "      <td>Azul</td>\n",
       "      <td>Unidades_Vendidas_Pantalones</td>\n",
       "    </tr>\n",
       "    <tr>\n",
       "      <th>4</th>\n",
       "      <td>2023-01-05</td>\n",
       "      <td>16.240746</td>\n",
       "      <td>50.321453</td>\n",
       "      <td>52.403472</td>\n",
       "      <td>0.060318</td>\n",
       "      <td>0.212065</td>\n",
       "      <td>0.403281</td>\n",
       "      <td>15.0</td>\n",
       "      <td>11.0</td>\n",
       "      <td>17.0</td>\n",
       "      <td>Azul</td>\n",
       "      <td>Blanco</td>\n",
       "      <td>Rojo</td>\n",
       "      <td>Unidades_Vendidas_Chaqueta</td>\n",
       "    </tr>\n",
       "  </tbody>\n",
       "</table>\n",
       "</div>"
      ],
      "text/plain": [
       "       Fecha  Precio_Camiseta  Precio_Pantalones  Precio_Chaqueta  \\\n",
       "0 2023-01-01        24.981605          52.101582        37.218671   \n",
       "1 2023-01-02        48.028572          24.206998        93.178703   \n",
       "2 2023-01-03        39.279758          28.081436        65.367666   \n",
       "3 2023-01-04        33.946339          64.927709        87.852023   \n",
       "4 2023-01-05        16.240746          50.321453        52.403472   \n",
       "\n",
       "   Descuento_Camiseta  Descuento_Pantalones  Descuento_Chaqueta  \\\n",
       "0            0.084468              0.353619            0.092566   \n",
       "1            0.139295              0.076270            0.270950   \n",
       "2            0.088505              0.288144            0.436473   \n",
       "3            0.044351              0.303358            0.366112   \n",
       "4            0.060318              0.212065            0.403281   \n",
       "\n",
       "   Unidades_Vendidas_Camiseta  Unidades_Vendidas_Pantalones  \\\n",
       "0                        24.0                          22.0   \n",
       "1                        20.0                          22.0   \n",
       "2                        22.0                          15.0   \n",
       "3                        19.0                          24.0   \n",
       "4                        15.0                          11.0   \n",
       "\n",
       "   Unidades_Vendidas_Chaqueta Color_Camiseta Color_Pantalones Color_Chaqueta  \\\n",
       "0                        26.0          Verde           Blanco           Rojo   \n",
       "1                        23.0         Blanco            Negro           Azul   \n",
       "2                        13.0           Rojo             Azul         Blanco   \n",
       "3                        17.0         Blanco           Blanco           Azul   \n",
       "4                        17.0           Azul           Blanco           Rojo   \n",
       "\n",
       "             Prenda_Mas_Vendida  \n",
       "0    Unidades_Vendidas_Chaqueta  \n",
       "1    Unidades_Vendidas_Chaqueta  \n",
       "2    Unidades_Vendidas_Camiseta  \n",
       "3  Unidades_Vendidas_Pantalones  \n",
       "4    Unidades_Vendidas_Chaqueta  "
      ]
     },
     "execution_count": 58,
     "metadata": {},
     "output_type": "execute_result"
    }
   ],
   "source": [
    "# Determinar la prenda que se vendió más\n",
    "df['Prenda_Mas_Vendida'] = df[['Unidades_Vendidas_Camiseta', 'Unidades_Vendidas_Pantalones', 'Unidades_Vendidas_Chaqueta']].idxmax(axis=1)\n",
    "df.head()"
   ]
  },
  {
   "cell_type": "code",
   "execution_count": 59,
   "metadata": {},
   "outputs": [],
   "source": [
    "df['Prenda_Mas_Vendida'] = df['Prenda_Mas_Vendida'].apply(lambda x: x.split('_')[2])"
   ]
  },
  {
   "cell_type": "code",
   "execution_count": 60,
   "metadata": {},
   "outputs": [
    {
     "data": {
      "text/html": [
       "<div>\n",
       "<style scoped>\n",
       "    .dataframe tbody tr th:only-of-type {\n",
       "        vertical-align: middle;\n",
       "    }\n",
       "\n",
       "    .dataframe tbody tr th {\n",
       "        vertical-align: top;\n",
       "    }\n",
       "\n",
       "    .dataframe thead th {\n",
       "        text-align: right;\n",
       "    }\n",
       "</style>\n",
       "<table border=\"1\" class=\"dataframe\">\n",
       "  <thead>\n",
       "    <tr style=\"text-align: right;\">\n",
       "      <th></th>\n",
       "      <th>Fecha</th>\n",
       "      <th>Precio_Camiseta</th>\n",
       "      <th>Precio_Pantalones</th>\n",
       "      <th>Precio_Chaqueta</th>\n",
       "      <th>Descuento_Camiseta</th>\n",
       "      <th>Descuento_Pantalones</th>\n",
       "      <th>Descuento_Chaqueta</th>\n",
       "      <th>Unidades_Vendidas_Camiseta</th>\n",
       "      <th>Unidades_Vendidas_Pantalones</th>\n",
       "      <th>Unidades_Vendidas_Chaqueta</th>\n",
       "      <th>Color_Camiseta</th>\n",
       "      <th>Color_Pantalones</th>\n",
       "      <th>Color_Chaqueta</th>\n",
       "      <th>Prenda_Mas_Vendida</th>\n",
       "    </tr>\n",
       "  </thead>\n",
       "  <tbody>\n",
       "    <tr>\n",
       "      <th>0</th>\n",
       "      <td>2023-01-01</td>\n",
       "      <td>24.981605</td>\n",
       "      <td>52.101582</td>\n",
       "      <td>37.218671</td>\n",
       "      <td>0.084468</td>\n",
       "      <td>0.353619</td>\n",
       "      <td>0.092566</td>\n",
       "      <td>24.0</td>\n",
       "      <td>22.0</td>\n",
       "      <td>26.0</td>\n",
       "      <td>Verde</td>\n",
       "      <td>Blanco</td>\n",
       "      <td>Rojo</td>\n",
       "      <td>Chaqueta</td>\n",
       "    </tr>\n",
       "    <tr>\n",
       "      <th>1</th>\n",
       "      <td>2023-01-02</td>\n",
       "      <td>48.028572</td>\n",
       "      <td>24.206998</td>\n",
       "      <td>93.178703</td>\n",
       "      <td>0.139295</td>\n",
       "      <td>0.076270</td>\n",
       "      <td>0.270950</td>\n",
       "      <td>20.0</td>\n",
       "      <td>22.0</td>\n",
       "      <td>23.0</td>\n",
       "      <td>Blanco</td>\n",
       "      <td>Negro</td>\n",
       "      <td>Azul</td>\n",
       "      <td>Chaqueta</td>\n",
       "    </tr>\n",
       "    <tr>\n",
       "      <th>2</th>\n",
       "      <td>2023-01-03</td>\n",
       "      <td>39.279758</td>\n",
       "      <td>28.081436</td>\n",
       "      <td>65.367666</td>\n",
       "      <td>0.088505</td>\n",
       "      <td>0.288144</td>\n",
       "      <td>0.436473</td>\n",
       "      <td>22.0</td>\n",
       "      <td>15.0</td>\n",
       "      <td>13.0</td>\n",
       "      <td>Rojo</td>\n",
       "      <td>Azul</td>\n",
       "      <td>Blanco</td>\n",
       "      <td>Camiseta</td>\n",
       "    </tr>\n",
       "    <tr>\n",
       "      <th>3</th>\n",
       "      <td>2023-01-04</td>\n",
       "      <td>33.946339</td>\n",
       "      <td>64.927709</td>\n",
       "      <td>87.852023</td>\n",
       "      <td>0.044351</td>\n",
       "      <td>0.303358</td>\n",
       "      <td>0.366112</td>\n",
       "      <td>19.0</td>\n",
       "      <td>24.0</td>\n",
       "      <td>17.0</td>\n",
       "      <td>Blanco</td>\n",
       "      <td>Blanco</td>\n",
       "      <td>Azul</td>\n",
       "      <td>Pantalones</td>\n",
       "    </tr>\n",
       "    <tr>\n",
       "      <th>4</th>\n",
       "      <td>2023-01-05</td>\n",
       "      <td>16.240746</td>\n",
       "      <td>50.321453</td>\n",
       "      <td>52.403472</td>\n",
       "      <td>0.060318</td>\n",
       "      <td>0.212065</td>\n",
       "      <td>0.403281</td>\n",
       "      <td>15.0</td>\n",
       "      <td>11.0</td>\n",
       "      <td>17.0</td>\n",
       "      <td>Azul</td>\n",
       "      <td>Blanco</td>\n",
       "      <td>Rojo</td>\n",
       "      <td>Chaqueta</td>\n",
       "    </tr>\n",
       "  </tbody>\n",
       "</table>\n",
       "</div>"
      ],
      "text/plain": [
       "       Fecha  Precio_Camiseta  Precio_Pantalones  Precio_Chaqueta  \\\n",
       "0 2023-01-01        24.981605          52.101582        37.218671   \n",
       "1 2023-01-02        48.028572          24.206998        93.178703   \n",
       "2 2023-01-03        39.279758          28.081436        65.367666   \n",
       "3 2023-01-04        33.946339          64.927709        87.852023   \n",
       "4 2023-01-05        16.240746          50.321453        52.403472   \n",
       "\n",
       "   Descuento_Camiseta  Descuento_Pantalones  Descuento_Chaqueta  \\\n",
       "0            0.084468              0.353619            0.092566   \n",
       "1            0.139295              0.076270            0.270950   \n",
       "2            0.088505              0.288144            0.436473   \n",
       "3            0.044351              0.303358            0.366112   \n",
       "4            0.060318              0.212065            0.403281   \n",
       "\n",
       "   Unidades_Vendidas_Camiseta  Unidades_Vendidas_Pantalones  \\\n",
       "0                        24.0                          22.0   \n",
       "1                        20.0                          22.0   \n",
       "2                        22.0                          15.0   \n",
       "3                        19.0                          24.0   \n",
       "4                        15.0                          11.0   \n",
       "\n",
       "   Unidades_Vendidas_Chaqueta Color_Camiseta Color_Pantalones Color_Chaqueta  \\\n",
       "0                        26.0          Verde           Blanco           Rojo   \n",
       "1                        23.0         Blanco            Negro           Azul   \n",
       "2                        13.0           Rojo             Azul         Blanco   \n",
       "3                        17.0         Blanco           Blanco           Azul   \n",
       "4                        17.0           Azul           Blanco           Rojo   \n",
       "\n",
       "  Prenda_Mas_Vendida  \n",
       "0           Chaqueta  \n",
       "1           Chaqueta  \n",
       "2           Camiseta  \n",
       "3         Pantalones  \n",
       "4           Chaqueta  "
      ]
     },
     "execution_count": 60,
     "metadata": {},
     "output_type": "execute_result"
    }
   ],
   "source": [
    "df.head()"
   ]
  },
  {
   "cell_type": "markdown",
   "metadata": {},
   "source": [
    "Preprocessing"
   ]
  },
  {
   "cell_type": "code",
   "execution_count": 61,
   "metadata": {},
   "outputs": [],
   "source": [
    "df['Mes'] = df['Fecha'].dt.month\n",
    "df['Día'] = df['Fecha'].dt.day\n",
    "df['Día_Semana'] = df['Fecha'].dt.dayofweek\n",
    "df.drop(columns=['Fecha'], inplace=True)"
   ]
  },
  {
   "cell_type": "code",
   "execution_count": 62,
   "metadata": {},
   "outputs": [
    {
     "data": {
      "text/html": [
       "<div>\n",
       "<style scoped>\n",
       "    .dataframe tbody tr th:only-of-type {\n",
       "        vertical-align: middle;\n",
       "    }\n",
       "\n",
       "    .dataframe tbody tr th {\n",
       "        vertical-align: top;\n",
       "    }\n",
       "\n",
       "    .dataframe thead th {\n",
       "        text-align: right;\n",
       "    }\n",
       "</style>\n",
       "<table border=\"1\" class=\"dataframe\">\n",
       "  <thead>\n",
       "    <tr style=\"text-align: right;\">\n",
       "      <th></th>\n",
       "      <th>Precio_Camiseta</th>\n",
       "      <th>Precio_Pantalones</th>\n",
       "      <th>Precio_Chaqueta</th>\n",
       "      <th>Descuento_Camiseta</th>\n",
       "      <th>Descuento_Pantalones</th>\n",
       "      <th>Descuento_Chaqueta</th>\n",
       "      <th>Unidades_Vendidas_Camiseta</th>\n",
       "      <th>Unidades_Vendidas_Pantalones</th>\n",
       "      <th>Unidades_Vendidas_Chaqueta</th>\n",
       "      <th>Color_Camiseta</th>\n",
       "      <th>Color_Pantalones</th>\n",
       "      <th>Color_Chaqueta</th>\n",
       "      <th>Prenda_Mas_Vendida</th>\n",
       "      <th>Mes</th>\n",
       "      <th>Día</th>\n",
       "      <th>Día_Semana</th>\n",
       "    </tr>\n",
       "  </thead>\n",
       "  <tbody>\n",
       "    <tr>\n",
       "      <th>0</th>\n",
       "      <td>24.981605</td>\n",
       "      <td>52.101582</td>\n",
       "      <td>37.218671</td>\n",
       "      <td>0.084468</td>\n",
       "      <td>0.353619</td>\n",
       "      <td>0.092566</td>\n",
       "      <td>24.0</td>\n",
       "      <td>22.0</td>\n",
       "      <td>26.0</td>\n",
       "      <td>Verde</td>\n",
       "      <td>Blanco</td>\n",
       "      <td>Rojo</td>\n",
       "      <td>Chaqueta</td>\n",
       "      <td>1</td>\n",
       "      <td>1</td>\n",
       "      <td>6</td>\n",
       "    </tr>\n",
       "    <tr>\n",
       "      <th>1</th>\n",
       "      <td>48.028572</td>\n",
       "      <td>24.206998</td>\n",
       "      <td>93.178703</td>\n",
       "      <td>0.139295</td>\n",
       "      <td>0.076270</td>\n",
       "      <td>0.270950</td>\n",
       "      <td>20.0</td>\n",
       "      <td>22.0</td>\n",
       "      <td>23.0</td>\n",
       "      <td>Blanco</td>\n",
       "      <td>Negro</td>\n",
       "      <td>Azul</td>\n",
       "      <td>Chaqueta</td>\n",
       "      <td>1</td>\n",
       "      <td>2</td>\n",
       "      <td>0</td>\n",
       "    </tr>\n",
       "    <tr>\n",
       "      <th>2</th>\n",
       "      <td>39.279758</td>\n",
       "      <td>28.081436</td>\n",
       "      <td>65.367666</td>\n",
       "      <td>0.088505</td>\n",
       "      <td>0.288144</td>\n",
       "      <td>0.436473</td>\n",
       "      <td>22.0</td>\n",
       "      <td>15.0</td>\n",
       "      <td>13.0</td>\n",
       "      <td>Rojo</td>\n",
       "      <td>Azul</td>\n",
       "      <td>Blanco</td>\n",
       "      <td>Camiseta</td>\n",
       "      <td>1</td>\n",
       "      <td>3</td>\n",
       "      <td>1</td>\n",
       "    </tr>\n",
       "    <tr>\n",
       "      <th>3</th>\n",
       "      <td>33.946339</td>\n",
       "      <td>64.927709</td>\n",
       "      <td>87.852023</td>\n",
       "      <td>0.044351</td>\n",
       "      <td>0.303358</td>\n",
       "      <td>0.366112</td>\n",
       "      <td>19.0</td>\n",
       "      <td>24.0</td>\n",
       "      <td>17.0</td>\n",
       "      <td>Blanco</td>\n",
       "      <td>Blanco</td>\n",
       "      <td>Azul</td>\n",
       "      <td>Pantalones</td>\n",
       "      <td>1</td>\n",
       "      <td>4</td>\n",
       "      <td>2</td>\n",
       "    </tr>\n",
       "    <tr>\n",
       "      <th>4</th>\n",
       "      <td>16.240746</td>\n",
       "      <td>50.321453</td>\n",
       "      <td>52.403472</td>\n",
       "      <td>0.060318</td>\n",
       "      <td>0.212065</td>\n",
       "      <td>0.403281</td>\n",
       "      <td>15.0</td>\n",
       "      <td>11.0</td>\n",
       "      <td>17.0</td>\n",
       "      <td>Azul</td>\n",
       "      <td>Blanco</td>\n",
       "      <td>Rojo</td>\n",
       "      <td>Chaqueta</td>\n",
       "      <td>1</td>\n",
       "      <td>5</td>\n",
       "      <td>3</td>\n",
       "    </tr>\n",
       "  </tbody>\n",
       "</table>\n",
       "</div>"
      ],
      "text/plain": [
       "   Precio_Camiseta  Precio_Pantalones  Precio_Chaqueta  Descuento_Camiseta  \\\n",
       "0        24.981605          52.101582        37.218671            0.084468   \n",
       "1        48.028572          24.206998        93.178703            0.139295   \n",
       "2        39.279758          28.081436        65.367666            0.088505   \n",
       "3        33.946339          64.927709        87.852023            0.044351   \n",
       "4        16.240746          50.321453        52.403472            0.060318   \n",
       "\n",
       "   Descuento_Pantalones  Descuento_Chaqueta  Unidades_Vendidas_Camiseta  \\\n",
       "0              0.353619            0.092566                        24.0   \n",
       "1              0.076270            0.270950                        20.0   \n",
       "2              0.288144            0.436473                        22.0   \n",
       "3              0.303358            0.366112                        19.0   \n",
       "4              0.212065            0.403281                        15.0   \n",
       "\n",
       "   Unidades_Vendidas_Pantalones  Unidades_Vendidas_Chaqueta Color_Camiseta  \\\n",
       "0                          22.0                        26.0          Verde   \n",
       "1                          22.0                        23.0         Blanco   \n",
       "2                          15.0                        13.0           Rojo   \n",
       "3                          24.0                        17.0         Blanco   \n",
       "4                          11.0                        17.0           Azul   \n",
       "\n",
       "  Color_Pantalones Color_Chaqueta Prenda_Mas_Vendida  Mes  Día  Día_Semana  \n",
       "0           Blanco           Rojo           Chaqueta    1    1           6  \n",
       "1            Negro           Azul           Chaqueta    1    2           0  \n",
       "2             Azul         Blanco           Camiseta    1    3           1  \n",
       "3           Blanco           Azul         Pantalones    1    4           2  \n",
       "4           Blanco           Rojo           Chaqueta    1    5           3  "
      ]
     },
     "execution_count": 62,
     "metadata": {},
     "output_type": "execute_result"
    }
   ],
   "source": [
    "df.head()"
   ]
  },
  {
   "cell_type": "code",
   "execution_count": 63,
   "metadata": {},
   "outputs": [
    {
     "data": {
      "text/html": [
       "<div>\n",
       "<style scoped>\n",
       "    .dataframe tbody tr th:only-of-type {\n",
       "        vertical-align: middle;\n",
       "    }\n",
       "\n",
       "    .dataframe tbody tr th {\n",
       "        vertical-align: top;\n",
       "    }\n",
       "\n",
       "    .dataframe thead th {\n",
       "        text-align: right;\n",
       "    }\n",
       "</style>\n",
       "<table border=\"1\" class=\"dataframe\">\n",
       "  <thead>\n",
       "    <tr style=\"text-align: right;\">\n",
       "      <th></th>\n",
       "      <th>Precio_Camiseta</th>\n",
       "      <th>Precio_Pantalones</th>\n",
       "      <th>Precio_Chaqueta</th>\n",
       "      <th>Descuento_Camiseta</th>\n",
       "      <th>Descuento_Pantalones</th>\n",
       "      <th>Descuento_Chaqueta</th>\n",
       "      <th>Unidades_Vendidas_Camiseta</th>\n",
       "      <th>Unidades_Vendidas_Pantalones</th>\n",
       "      <th>Unidades_Vendidas_Chaqueta</th>\n",
       "      <th>Prenda_Mas_Vendida</th>\n",
       "      <th>...</th>\n",
       "      <th>Color_Camiseta_Rojo</th>\n",
       "      <th>Color_Camiseta_Verde</th>\n",
       "      <th>Color_Pantalones_Blanco</th>\n",
       "      <th>Color_Pantalones_Negro</th>\n",
       "      <th>Color_Pantalones_Rojo</th>\n",
       "      <th>Color_Pantalones_Verde</th>\n",
       "      <th>Color_Chaqueta_Blanco</th>\n",
       "      <th>Color_Chaqueta_Negro</th>\n",
       "      <th>Color_Chaqueta_Rojo</th>\n",
       "      <th>Color_Chaqueta_Verde</th>\n",
       "    </tr>\n",
       "  </thead>\n",
       "  <tbody>\n",
       "    <tr>\n",
       "      <th>0</th>\n",
       "      <td>24.981605</td>\n",
       "      <td>52.101582</td>\n",
       "      <td>37.218671</td>\n",
       "      <td>0.084468</td>\n",
       "      <td>0.353619</td>\n",
       "      <td>0.092566</td>\n",
       "      <td>24.0</td>\n",
       "      <td>22.0</td>\n",
       "      <td>26.0</td>\n",
       "      <td>Chaqueta</td>\n",
       "      <td>...</td>\n",
       "      <td>False</td>\n",
       "      <td>True</td>\n",
       "      <td>True</td>\n",
       "      <td>False</td>\n",
       "      <td>False</td>\n",
       "      <td>False</td>\n",
       "      <td>False</td>\n",
       "      <td>False</td>\n",
       "      <td>True</td>\n",
       "      <td>False</td>\n",
       "    </tr>\n",
       "    <tr>\n",
       "      <th>1</th>\n",
       "      <td>48.028572</td>\n",
       "      <td>24.206998</td>\n",
       "      <td>93.178703</td>\n",
       "      <td>0.139295</td>\n",
       "      <td>0.076270</td>\n",
       "      <td>0.270950</td>\n",
       "      <td>20.0</td>\n",
       "      <td>22.0</td>\n",
       "      <td>23.0</td>\n",
       "      <td>Chaqueta</td>\n",
       "      <td>...</td>\n",
       "      <td>False</td>\n",
       "      <td>False</td>\n",
       "      <td>False</td>\n",
       "      <td>True</td>\n",
       "      <td>False</td>\n",
       "      <td>False</td>\n",
       "      <td>False</td>\n",
       "      <td>False</td>\n",
       "      <td>False</td>\n",
       "      <td>False</td>\n",
       "    </tr>\n",
       "    <tr>\n",
       "      <th>2</th>\n",
       "      <td>39.279758</td>\n",
       "      <td>28.081436</td>\n",
       "      <td>65.367666</td>\n",
       "      <td>0.088505</td>\n",
       "      <td>0.288144</td>\n",
       "      <td>0.436473</td>\n",
       "      <td>22.0</td>\n",
       "      <td>15.0</td>\n",
       "      <td>13.0</td>\n",
       "      <td>Camiseta</td>\n",
       "      <td>...</td>\n",
       "      <td>True</td>\n",
       "      <td>False</td>\n",
       "      <td>False</td>\n",
       "      <td>False</td>\n",
       "      <td>False</td>\n",
       "      <td>False</td>\n",
       "      <td>True</td>\n",
       "      <td>False</td>\n",
       "      <td>False</td>\n",
       "      <td>False</td>\n",
       "    </tr>\n",
       "    <tr>\n",
       "      <th>3</th>\n",
       "      <td>33.946339</td>\n",
       "      <td>64.927709</td>\n",
       "      <td>87.852023</td>\n",
       "      <td>0.044351</td>\n",
       "      <td>0.303358</td>\n",
       "      <td>0.366112</td>\n",
       "      <td>19.0</td>\n",
       "      <td>24.0</td>\n",
       "      <td>17.0</td>\n",
       "      <td>Pantalones</td>\n",
       "      <td>...</td>\n",
       "      <td>False</td>\n",
       "      <td>False</td>\n",
       "      <td>True</td>\n",
       "      <td>False</td>\n",
       "      <td>False</td>\n",
       "      <td>False</td>\n",
       "      <td>False</td>\n",
       "      <td>False</td>\n",
       "      <td>False</td>\n",
       "      <td>False</td>\n",
       "    </tr>\n",
       "    <tr>\n",
       "      <th>4</th>\n",
       "      <td>16.240746</td>\n",
       "      <td>50.321453</td>\n",
       "      <td>52.403472</td>\n",
       "      <td>0.060318</td>\n",
       "      <td>0.212065</td>\n",
       "      <td>0.403281</td>\n",
       "      <td>15.0</td>\n",
       "      <td>11.0</td>\n",
       "      <td>17.0</td>\n",
       "      <td>Chaqueta</td>\n",
       "      <td>...</td>\n",
       "      <td>False</td>\n",
       "      <td>False</td>\n",
       "      <td>True</td>\n",
       "      <td>False</td>\n",
       "      <td>False</td>\n",
       "      <td>False</td>\n",
       "      <td>False</td>\n",
       "      <td>False</td>\n",
       "      <td>True</td>\n",
       "      <td>False</td>\n",
       "    </tr>\n",
       "  </tbody>\n",
       "</table>\n",
       "<p>5 rows × 25 columns</p>\n",
       "</div>"
      ],
      "text/plain": [
       "   Precio_Camiseta  Precio_Pantalones  Precio_Chaqueta  Descuento_Camiseta  \\\n",
       "0        24.981605          52.101582        37.218671            0.084468   \n",
       "1        48.028572          24.206998        93.178703            0.139295   \n",
       "2        39.279758          28.081436        65.367666            0.088505   \n",
       "3        33.946339          64.927709        87.852023            0.044351   \n",
       "4        16.240746          50.321453        52.403472            0.060318   \n",
       "\n",
       "   Descuento_Pantalones  Descuento_Chaqueta  Unidades_Vendidas_Camiseta  \\\n",
       "0              0.353619            0.092566                        24.0   \n",
       "1              0.076270            0.270950                        20.0   \n",
       "2              0.288144            0.436473                        22.0   \n",
       "3              0.303358            0.366112                        19.0   \n",
       "4              0.212065            0.403281                        15.0   \n",
       "\n",
       "   Unidades_Vendidas_Pantalones  Unidades_Vendidas_Chaqueta  \\\n",
       "0                          22.0                        26.0   \n",
       "1                          22.0                        23.0   \n",
       "2                          15.0                        13.0   \n",
       "3                          24.0                        17.0   \n",
       "4                          11.0                        17.0   \n",
       "\n",
       "  Prenda_Mas_Vendida  ...  Color_Camiseta_Rojo  Color_Camiseta_Verde  \\\n",
       "0           Chaqueta  ...                False                  True   \n",
       "1           Chaqueta  ...                False                 False   \n",
       "2           Camiseta  ...                 True                 False   \n",
       "3         Pantalones  ...                False                 False   \n",
       "4           Chaqueta  ...                False                 False   \n",
       "\n",
       "   Color_Pantalones_Blanco  Color_Pantalones_Negro  Color_Pantalones_Rojo  \\\n",
       "0                     True                   False                  False   \n",
       "1                    False                    True                  False   \n",
       "2                    False                   False                  False   \n",
       "3                     True                   False                  False   \n",
       "4                     True                   False                  False   \n",
       "\n",
       "   Color_Pantalones_Verde  Color_Chaqueta_Blanco  Color_Chaqueta_Negro  \\\n",
       "0                   False                  False                 False   \n",
       "1                   False                  False                 False   \n",
       "2                   False                   True                 False   \n",
       "3                   False                  False                 False   \n",
       "4                   False                  False                 False   \n",
       "\n",
       "   Color_Chaqueta_Rojo  Color_Chaqueta_Verde  \n",
       "0                 True                 False  \n",
       "1                False                 False  \n",
       "2                False                 False  \n",
       "3                False                 False  \n",
       "4                 True                 False  \n",
       "\n",
       "[5 rows x 25 columns]"
      ]
     },
     "execution_count": 63,
     "metadata": {},
     "output_type": "execute_result"
    }
   ],
   "source": [
    "# Convertir las variables categóricas a variables dummy\n",
    "df = pd.get_dummies(df, columns=['Color_Camiseta', 'Color_Pantalones', 'Color_Chaqueta'], drop_first=True)\n",
    "df.head()"
   ]
  },
  {
   "cell_type": "code",
   "execution_count": 65,
   "metadata": {},
   "outputs": [],
   "source": [
    "X = df.drop(columns=['Prenda_Mas_Vendida'])\n",
    "y = df['Prenda_Mas_Vendida']"
   ]
  },
  {
   "cell_type": "code",
   "execution_count": 66,
   "metadata": {},
   "outputs": [
    {
     "data": {
      "text/html": [
       "<div>\n",
       "<style scoped>\n",
       "    .dataframe tbody tr th:only-of-type {\n",
       "        vertical-align: middle;\n",
       "    }\n",
       "\n",
       "    .dataframe tbody tr th {\n",
       "        vertical-align: top;\n",
       "    }\n",
       "\n",
       "    .dataframe thead th {\n",
       "        text-align: right;\n",
       "    }\n",
       "</style>\n",
       "<table border=\"1\" class=\"dataframe\">\n",
       "  <thead>\n",
       "    <tr style=\"text-align: right;\">\n",
       "      <th></th>\n",
       "      <th>Precio_Camiseta</th>\n",
       "      <th>Precio_Pantalones</th>\n",
       "      <th>Precio_Chaqueta</th>\n",
       "      <th>Descuento_Camiseta</th>\n",
       "      <th>Descuento_Pantalones</th>\n",
       "      <th>Descuento_Chaqueta</th>\n",
       "      <th>Unidades_Vendidas_Camiseta</th>\n",
       "      <th>Unidades_Vendidas_Pantalones</th>\n",
       "      <th>Unidades_Vendidas_Chaqueta</th>\n",
       "      <th>Mes</th>\n",
       "      <th>...</th>\n",
       "      <th>Color_Camiseta_Rojo</th>\n",
       "      <th>Color_Camiseta_Verde</th>\n",
       "      <th>Color_Pantalones_Blanco</th>\n",
       "      <th>Color_Pantalones_Negro</th>\n",
       "      <th>Color_Pantalones_Rojo</th>\n",
       "      <th>Color_Pantalones_Verde</th>\n",
       "      <th>Color_Chaqueta_Blanco</th>\n",
       "      <th>Color_Chaqueta_Negro</th>\n",
       "      <th>Color_Chaqueta_Rojo</th>\n",
       "      <th>Color_Chaqueta_Verde</th>\n",
       "    </tr>\n",
       "  </thead>\n",
       "  <tbody>\n",
       "    <tr>\n",
       "      <th>0</th>\n",
       "      <td>24.981605</td>\n",
       "      <td>52.101582</td>\n",
       "      <td>37.218671</td>\n",
       "      <td>0.084468</td>\n",
       "      <td>0.353619</td>\n",
       "      <td>0.092566</td>\n",
       "      <td>24.0</td>\n",
       "      <td>22.0</td>\n",
       "      <td>26.0</td>\n",
       "      <td>1</td>\n",
       "      <td>...</td>\n",
       "      <td>False</td>\n",
       "      <td>True</td>\n",
       "      <td>True</td>\n",
       "      <td>False</td>\n",
       "      <td>False</td>\n",
       "      <td>False</td>\n",
       "      <td>False</td>\n",
       "      <td>False</td>\n",
       "      <td>True</td>\n",
       "      <td>False</td>\n",
       "    </tr>\n",
       "    <tr>\n",
       "      <th>1</th>\n",
       "      <td>48.028572</td>\n",
       "      <td>24.206998</td>\n",
       "      <td>93.178703</td>\n",
       "      <td>0.139295</td>\n",
       "      <td>0.076270</td>\n",
       "      <td>0.270950</td>\n",
       "      <td>20.0</td>\n",
       "      <td>22.0</td>\n",
       "      <td>23.0</td>\n",
       "      <td>1</td>\n",
       "      <td>...</td>\n",
       "      <td>False</td>\n",
       "      <td>False</td>\n",
       "      <td>False</td>\n",
       "      <td>True</td>\n",
       "      <td>False</td>\n",
       "      <td>False</td>\n",
       "      <td>False</td>\n",
       "      <td>False</td>\n",
       "      <td>False</td>\n",
       "      <td>False</td>\n",
       "    </tr>\n",
       "    <tr>\n",
       "      <th>2</th>\n",
       "      <td>39.279758</td>\n",
       "      <td>28.081436</td>\n",
       "      <td>65.367666</td>\n",
       "      <td>0.088505</td>\n",
       "      <td>0.288144</td>\n",
       "      <td>0.436473</td>\n",
       "      <td>22.0</td>\n",
       "      <td>15.0</td>\n",
       "      <td>13.0</td>\n",
       "      <td>1</td>\n",
       "      <td>...</td>\n",
       "      <td>True</td>\n",
       "      <td>False</td>\n",
       "      <td>False</td>\n",
       "      <td>False</td>\n",
       "      <td>False</td>\n",
       "      <td>False</td>\n",
       "      <td>True</td>\n",
       "      <td>False</td>\n",
       "      <td>False</td>\n",
       "      <td>False</td>\n",
       "    </tr>\n",
       "    <tr>\n",
       "      <th>3</th>\n",
       "      <td>33.946339</td>\n",
       "      <td>64.927709</td>\n",
       "      <td>87.852023</td>\n",
       "      <td>0.044351</td>\n",
       "      <td>0.303358</td>\n",
       "      <td>0.366112</td>\n",
       "      <td>19.0</td>\n",
       "      <td>24.0</td>\n",
       "      <td>17.0</td>\n",
       "      <td>1</td>\n",
       "      <td>...</td>\n",
       "      <td>False</td>\n",
       "      <td>False</td>\n",
       "      <td>True</td>\n",
       "      <td>False</td>\n",
       "      <td>False</td>\n",
       "      <td>False</td>\n",
       "      <td>False</td>\n",
       "      <td>False</td>\n",
       "      <td>False</td>\n",
       "      <td>False</td>\n",
       "    </tr>\n",
       "    <tr>\n",
       "      <th>4</th>\n",
       "      <td>16.240746</td>\n",
       "      <td>50.321453</td>\n",
       "      <td>52.403472</td>\n",
       "      <td>0.060318</td>\n",
       "      <td>0.212065</td>\n",
       "      <td>0.403281</td>\n",
       "      <td>15.0</td>\n",
       "      <td>11.0</td>\n",
       "      <td>17.0</td>\n",
       "      <td>1</td>\n",
       "      <td>...</td>\n",
       "      <td>False</td>\n",
       "      <td>False</td>\n",
       "      <td>True</td>\n",
       "      <td>False</td>\n",
       "      <td>False</td>\n",
       "      <td>False</td>\n",
       "      <td>False</td>\n",
       "      <td>False</td>\n",
       "      <td>True</td>\n",
       "      <td>False</td>\n",
       "    </tr>\n",
       "  </tbody>\n",
       "</table>\n",
       "<p>5 rows × 24 columns</p>\n",
       "</div>"
      ],
      "text/plain": [
       "   Precio_Camiseta  Precio_Pantalones  Precio_Chaqueta  Descuento_Camiseta  \\\n",
       "0        24.981605          52.101582        37.218671            0.084468   \n",
       "1        48.028572          24.206998        93.178703            0.139295   \n",
       "2        39.279758          28.081436        65.367666            0.088505   \n",
       "3        33.946339          64.927709        87.852023            0.044351   \n",
       "4        16.240746          50.321453        52.403472            0.060318   \n",
       "\n",
       "   Descuento_Pantalones  Descuento_Chaqueta  Unidades_Vendidas_Camiseta  \\\n",
       "0              0.353619            0.092566                        24.0   \n",
       "1              0.076270            0.270950                        20.0   \n",
       "2              0.288144            0.436473                        22.0   \n",
       "3              0.303358            0.366112                        19.0   \n",
       "4              0.212065            0.403281                        15.0   \n",
       "\n",
       "   Unidades_Vendidas_Pantalones  Unidades_Vendidas_Chaqueta  Mes  ...  \\\n",
       "0                          22.0                        26.0    1  ...   \n",
       "1                          22.0                        23.0    1  ...   \n",
       "2                          15.0                        13.0    1  ...   \n",
       "3                          24.0                        17.0    1  ...   \n",
       "4                          11.0                        17.0    1  ...   \n",
       "\n",
       "   Color_Camiseta_Rojo  Color_Camiseta_Verde  Color_Pantalones_Blanco  \\\n",
       "0                False                  True                     True   \n",
       "1                False                 False                    False   \n",
       "2                 True                 False                    False   \n",
       "3                False                 False                     True   \n",
       "4                False                 False                     True   \n",
       "\n",
       "   Color_Pantalones_Negro  Color_Pantalones_Rojo  Color_Pantalones_Verde  \\\n",
       "0                   False                  False                   False   \n",
       "1                    True                  False                   False   \n",
       "2                   False                  False                   False   \n",
       "3                   False                  False                   False   \n",
       "4                   False                  False                   False   \n",
       "\n",
       "   Color_Chaqueta_Blanco  Color_Chaqueta_Negro  Color_Chaqueta_Rojo  \\\n",
       "0                  False                 False                 True   \n",
       "1                  False                 False                False   \n",
       "2                   True                 False                False   \n",
       "3                  False                 False                False   \n",
       "4                  False                 False                 True   \n",
       "\n",
       "   Color_Chaqueta_Verde  \n",
       "0                 False  \n",
       "1                 False  \n",
       "2                 False  \n",
       "3                 False  \n",
       "4                 False  \n",
       "\n",
       "[5 rows x 24 columns]"
      ]
     },
     "execution_count": 66,
     "metadata": {},
     "output_type": "execute_result"
    }
   ],
   "source": [
    "X.head()"
   ]
  },
  {
   "cell_type": "code",
   "execution_count": 67,
   "metadata": {},
   "outputs": [
    {
     "data": {
      "text/plain": [
       "0      Chaqueta\n",
       "1      Chaqueta\n",
       "2      Camiseta\n",
       "3    Pantalones\n",
       "4      Chaqueta\n",
       "Name: Prenda_Mas_Vendida, dtype: object"
      ]
     },
     "execution_count": 67,
     "metadata": {},
     "output_type": "execute_result"
    }
   ],
   "source": [
    "y.head()"
   ]
  },
  {
   "cell_type": "code",
   "execution_count": 68,
   "metadata": {},
   "outputs": [
    {
     "data": {
      "text/plain": [
       "array([1, 1, 0, 2, 1, 0, 1, 1, 0, 1, 1, 1, 0, 1, 0, 0, 0, 2, 1, 0, 0, 2,\n",
       "       2, 1, 1, 2, 2, 1, 2, 0, 1, 2, 0, 2, 1, 1, 1, 2, 0, 0, 1, 0, 0, 1,\n",
       "       0, 1, 2, 2, 2, 0, 2, 0, 1, 2, 1, 2, 0, 2, 0, 1, 2, 0, 1, 0, 2, 0,\n",
       "       2, 0, 0, 2, 1, 1, 0, 1, 0, 0, 1, 2, 2, 2, 0, 1, 0, 2, 1, 2, 2, 2,\n",
       "       2, 2, 2, 1, 2, 1, 1, 1, 0, 2, 0, 0, 0, 0, 0, 2, 1, 2, 1, 0, 0, 0,\n",
       "       0, 1, 0, 2, 0, 2, 2, 2, 2, 1, 1, 2, 1, 0, 1, 0, 2, 1, 1, 2, 1, 0,\n",
       "       0, 2, 1, 1, 2, 1, 0, 0, 0, 2, 0, 2, 0, 0, 0, 0, 2, 1, 0, 2, 1, 0,\n",
       "       2, 1, 1, 2, 2, 2, 1, 2, 0, 0, 1, 2, 1, 2, 1, 2, 1, 0, 0, 0, 1, 0,\n",
       "       0, 1, 1, 0, 1, 2, 1, 1, 0, 0, 2, 0, 0, 1, 2, 1, 0, 0, 2, 1, 0, 0,\n",
       "       1, 2])"
      ]
     },
     "execution_count": 68,
     "metadata": {},
     "output_type": "execute_result"
    }
   ],
   "source": [
    "# Codificar la variable objetivo\n",
    "label_encoder = LabelEncoder()\n",
    "y = label_encoder.fit_transform(y)\n",
    "y"
   ]
  },
  {
   "cell_type": "code",
   "execution_count": 69,
   "metadata": {},
   "outputs": [
    {
     "data": {
      "text/plain": [
       "array([[-0.37213971,  0.47099449, -1.36213713, ..., -0.46852129,\n",
       "         1.91080161, -0.53881591],\n",
       "       [ 1.58661523, -1.43784301,  1.24577762, ..., -0.46852129,\n",
       "        -0.52334057, -0.53881591],\n",
       "       [ 0.84305607, -1.17271371, -0.0503048 , ..., -0.46852129,\n",
       "        -0.52334057, -0.53881591],\n",
       "       ...,\n",
       "       [ 1.40438355, -0.25791796, -1.13640443, ..., -0.46852129,\n",
       "        -0.52334057, -0.53881591],\n",
       "       [ 1.37030664,  0.84339074, -1.07126064, ..., -0.46852129,\n",
       "         1.91080161, -0.53881591],\n",
       "       [ 1.00583381,  0.8559539 , -1.56522756, ...,  2.13437475,\n",
       "        -0.52334057, -0.53881591]])"
      ]
     },
     "execution_count": 69,
     "metadata": {},
     "output_type": "execute_result"
    }
   ],
   "source": [
    "scaler = StandardScaler()\n",
    "X = scaler.fit_transform(X)\n",
    "X"
   ]
  },
  {
   "cell_type": "code",
   "execution_count": 70,
   "metadata": {},
   "outputs": [
    {
     "data": {
      "text/plain": [
       "((160, 24), (40, 24), (160,), (40,))"
      ]
     },
     "execution_count": 70,
     "metadata": {},
     "output_type": "execute_result"
    }
   ],
   "source": [
    "X_train, X_test, y_train, y_test = train_test_split(X, y, test_size=0.2, random_state=42)\n",
    "X_train.shape, X_test.shape, y_train.shape, y_test.shape"
   ]
  },
  {
   "cell_type": "markdown",
   "metadata": {},
   "source": [
    "Model"
   ]
  },
  {
   "cell_type": "code",
   "execution_count": 71,
   "metadata": {},
   "outputs": [
    {
     "data": {
      "text/html": [
       "<style>#sk-container-id-2 {color: black;}#sk-container-id-2 pre{padding: 0;}#sk-container-id-2 div.sk-toggleable {background-color: white;}#sk-container-id-2 label.sk-toggleable__label {cursor: pointer;display: block;width: 100%;margin-bottom: 0;padding: 0.3em;box-sizing: border-box;text-align: center;}#sk-container-id-2 label.sk-toggleable__label-arrow:before {content: \"▸\";float: left;margin-right: 0.25em;color: #696969;}#sk-container-id-2 label.sk-toggleable__label-arrow:hover:before {color: black;}#sk-container-id-2 div.sk-estimator:hover label.sk-toggleable__label-arrow:before {color: black;}#sk-container-id-2 div.sk-toggleable__content {max-height: 0;max-width: 0;overflow: hidden;text-align: left;background-color: #f0f8ff;}#sk-container-id-2 div.sk-toggleable__content pre {margin: 0.2em;color: black;border-radius: 0.25em;background-color: #f0f8ff;}#sk-container-id-2 input.sk-toggleable__control:checked~div.sk-toggleable__content {max-height: 200px;max-width: 100%;overflow: auto;}#sk-container-id-2 input.sk-toggleable__control:checked~label.sk-toggleable__label-arrow:before {content: \"▾\";}#sk-container-id-2 div.sk-estimator input.sk-toggleable__control:checked~label.sk-toggleable__label {background-color: #d4ebff;}#sk-container-id-2 div.sk-label input.sk-toggleable__control:checked~label.sk-toggleable__label {background-color: #d4ebff;}#sk-container-id-2 input.sk-hidden--visually {border: 0;clip: rect(1px 1px 1px 1px);clip: rect(1px, 1px, 1px, 1px);height: 1px;margin: -1px;overflow: hidden;padding: 0;position: absolute;width: 1px;}#sk-container-id-2 div.sk-estimator {font-family: monospace;background-color: #f0f8ff;border: 1px dotted black;border-radius: 0.25em;box-sizing: border-box;margin-bottom: 0.5em;}#sk-container-id-2 div.sk-estimator:hover {background-color: #d4ebff;}#sk-container-id-2 div.sk-parallel-item::after {content: \"\";width: 100%;border-bottom: 1px solid gray;flex-grow: 1;}#sk-container-id-2 div.sk-label:hover label.sk-toggleable__label {background-color: #d4ebff;}#sk-container-id-2 div.sk-serial::before {content: \"\";position: absolute;border-left: 1px solid gray;box-sizing: border-box;top: 0;bottom: 0;left: 50%;z-index: 0;}#sk-container-id-2 div.sk-serial {display: flex;flex-direction: column;align-items: center;background-color: white;padding-right: 0.2em;padding-left: 0.2em;position: relative;}#sk-container-id-2 div.sk-item {position: relative;z-index: 1;}#sk-container-id-2 div.sk-parallel {display: flex;align-items: stretch;justify-content: center;background-color: white;position: relative;}#sk-container-id-2 div.sk-item::before, #sk-container-id-2 div.sk-parallel-item::before {content: \"\";position: absolute;border-left: 1px solid gray;box-sizing: border-box;top: 0;bottom: 0;left: 50%;z-index: -1;}#sk-container-id-2 div.sk-parallel-item {display: flex;flex-direction: column;z-index: 1;position: relative;background-color: white;}#sk-container-id-2 div.sk-parallel-item:first-child::after {align-self: flex-end;width: 50%;}#sk-container-id-2 div.sk-parallel-item:last-child::after {align-self: flex-start;width: 50%;}#sk-container-id-2 div.sk-parallel-item:only-child::after {width: 0;}#sk-container-id-2 div.sk-dashed-wrapped {border: 1px dashed gray;margin: 0 0.4em 0.5em 0.4em;box-sizing: border-box;padding-bottom: 0.4em;background-color: white;}#sk-container-id-2 div.sk-label label {font-family: monospace;font-weight: bold;display: inline-block;line-height: 1.2em;}#sk-container-id-2 div.sk-label-container {text-align: center;}#sk-container-id-2 div.sk-container {/* jupyter's `normalize.less` sets `[hidden] { display: none; }` but bootstrap.min.css set `[hidden] { display: none !important; }` so we also need the `!important` here to be able to override the default hidden behavior on the sphinx rendered scikit-learn.org. See: https://github.com/scikit-learn/scikit-learn/issues/21755 */display: inline-block !important;position: relative;}#sk-container-id-2 div.sk-text-repr-fallback {display: none;}</style><div id=\"sk-container-id-2\" class=\"sk-top-container\"><div class=\"sk-text-repr-fallback\"><pre>RandomForestClassifier(random_state=42)</pre><b>In a Jupyter environment, please rerun this cell to show the HTML representation or trust the notebook. <br />On GitHub, the HTML representation is unable to render, please try loading this page with nbviewer.org.</b></div><div class=\"sk-container\" hidden><div class=\"sk-item\"><div class=\"sk-estimator sk-toggleable\"><input class=\"sk-toggleable__control sk-hidden--visually\" id=\"sk-estimator-id-2\" type=\"checkbox\" checked><label for=\"sk-estimator-id-2\" class=\"sk-toggleable__label sk-toggleable__label-arrow\">RandomForestClassifier</label><div class=\"sk-toggleable__content\"><pre>RandomForestClassifier(random_state=42)</pre></div></div></div></div></div>"
      ],
      "text/plain": [
       "RandomForestClassifier(random_state=42)"
      ]
     },
     "execution_count": 71,
     "metadata": {},
     "output_type": "execute_result"
    }
   ],
   "source": [
    "model = RandomForestClassifier(random_state=42)\n",
    "model.fit(X_train, y_train)"
   ]
  },
  {
   "cell_type": "code",
   "execution_count": 72,
   "metadata": {},
   "outputs": [
    {
     "data": {
      "text/plain": [
       "array([1, 0, 0, 2, 0, 1, 2, 1, 1, 1, 1, 1, 1, 2, 2, 0, 0, 0, 0, 0, 1, 1,\n",
       "       2, 1, 0, 2, 1, 0, 0, 0, 1, 1, 2, 0, 0, 1, 1, 1, 0, 1])"
      ]
     },
     "execution_count": 72,
     "metadata": {},
     "output_type": "execute_result"
    }
   ],
   "source": [
    "y_pred = model.predict(X_test)\n",
    "y_pred"
   ]
  },
  {
   "cell_type": "markdown",
   "metadata": {},
   "source": [
    "Score"
   ]
  },
  {
   "cell_type": "code",
   "execution_count": 74,
   "metadata": {},
   "outputs": [
    {
     "data": {
      "text/plain": [
       "0.775"
      ]
     },
     "execution_count": 74,
     "metadata": {},
     "output_type": "execute_result"
    }
   ],
   "source": [
    "accuracy = accuracy_score(y_test, y_pred)\n",
    "accuracy"
   ]
  },
  {
   "cell_type": "markdown",
   "metadata": {},
   "source": [
    "Predicciones"
   ]
  },
  {
   "cell_type": "code",
   "execution_count": 28,
   "metadata": {},
   "outputs": [],
   "source": [
    "nuevo_dato = {\n",
    "    'Precio_Camiseta': [35],\n",
    "    'Precio_Pantalones': [55],\n",
    "    'Precio_Chaqueta': [75],\n",
    "    'Descuento_Camiseta': [0.1],\n",
    "    'Descuento_Pantalones': [0.2],\n",
    "    'Descuento_Chaqueta': [0.15],\n",
    "    'Unidades_Vendidas_Camiseta': [0],\n",
    "    'Unidades_Vendidas_Pantalones': [0],\n",
    "    'Unidades_Vendidas_Chaqueta': [0],\n",
    "    'Mes': [6],\n",
    "    'Día': [15],\n",
    "    'Día_Semana': [2],\n",
    "    'Color_Camiseta_Azul': [0],\n",
    "    'Color_Camiseta_Negro': [1],\n",
    "    'Color_Camiseta_Rojo': [0],\n",
    "    'Color_Camiseta_Verde': [0],\n",
    "    'Color_Pantalones_Azul': [1],\n",
    "    'Color_Pantalones_Negro': [0],\n",
    "    'Color_Pantalones_Rojo': [0],\n",
    "    'Color_Pantalones_Verde': [0],\n",
    "    'Color_Chaqueta_Azul': [0],\n",
    "    'Color_Chaqueta_Negro': [0],\n",
    "    'Color_Chaqueta_Rojo': [1],\n",
    "    'Color_Chaqueta_Verde': [0]\n",
    "}"
   ]
  },
  {
   "cell_type": "code",
   "execution_count": 29,
   "metadata": {},
   "outputs": [
    {
     "data": {
      "text/html": [
       "<div>\n",
       "<style scoped>\n",
       "    .dataframe tbody tr th:only-of-type {\n",
       "        vertical-align: middle;\n",
       "    }\n",
       "\n",
       "    .dataframe tbody tr th {\n",
       "        vertical-align: top;\n",
       "    }\n",
       "\n",
       "    .dataframe thead th {\n",
       "        text-align: right;\n",
       "    }\n",
       "</style>\n",
       "<table border=\"1\" class=\"dataframe\">\n",
       "  <thead>\n",
       "    <tr style=\"text-align: right;\">\n",
       "      <th></th>\n",
       "      <th>Precio_Camiseta</th>\n",
       "      <th>Precio_Pantalones</th>\n",
       "      <th>Precio_Chaqueta</th>\n",
       "      <th>Descuento_Camiseta</th>\n",
       "      <th>Descuento_Pantalones</th>\n",
       "      <th>Descuento_Chaqueta</th>\n",
       "      <th>Unidades_Vendidas_Camiseta</th>\n",
       "      <th>Unidades_Vendidas_Pantalones</th>\n",
       "      <th>Unidades_Vendidas_Chaqueta</th>\n",
       "      <th>Mes</th>\n",
       "      <th>...</th>\n",
       "      <th>Color_Camiseta_Rojo</th>\n",
       "      <th>Color_Camiseta_Verde</th>\n",
       "      <th>Color_Pantalones_Azul</th>\n",
       "      <th>Color_Pantalones_Negro</th>\n",
       "      <th>Color_Pantalones_Rojo</th>\n",
       "      <th>Color_Pantalones_Verde</th>\n",
       "      <th>Color_Chaqueta_Azul</th>\n",
       "      <th>Color_Chaqueta_Negro</th>\n",
       "      <th>Color_Chaqueta_Rojo</th>\n",
       "      <th>Color_Chaqueta_Verde</th>\n",
       "    </tr>\n",
       "  </thead>\n",
       "  <tbody>\n",
       "    <tr>\n",
       "      <th>0</th>\n",
       "      <td>35</td>\n",
       "      <td>55</td>\n",
       "      <td>75</td>\n",
       "      <td>0.1</td>\n",
       "      <td>0.2</td>\n",
       "      <td>0.15</td>\n",
       "      <td>0</td>\n",
       "      <td>0</td>\n",
       "      <td>0</td>\n",
       "      <td>6</td>\n",
       "      <td>...</td>\n",
       "      <td>0</td>\n",
       "      <td>0</td>\n",
       "      <td>1</td>\n",
       "      <td>0</td>\n",
       "      <td>0</td>\n",
       "      <td>0</td>\n",
       "      <td>0</td>\n",
       "      <td>0</td>\n",
       "      <td>1</td>\n",
       "      <td>0</td>\n",
       "    </tr>\n",
       "  </tbody>\n",
       "</table>\n",
       "<p>1 rows × 24 columns</p>\n",
       "</div>"
      ],
      "text/plain": [
       "   Precio_Camiseta  Precio_Pantalones  Precio_Chaqueta  Descuento_Camiseta  \\\n",
       "0               35                 55               75                 0.1   \n",
       "\n",
       "   Descuento_Pantalones  Descuento_Chaqueta  Unidades_Vendidas_Camiseta  \\\n",
       "0                   0.2                0.15                           0   \n",
       "\n",
       "   Unidades_Vendidas_Pantalones  Unidades_Vendidas_Chaqueta  Mes  ...  \\\n",
       "0                             0                           0    6  ...   \n",
       "\n",
       "   Color_Camiseta_Rojo  Color_Camiseta_Verde  Color_Pantalones_Azul  \\\n",
       "0                    0                     0                      1   \n",
       "\n",
       "   Color_Pantalones_Negro  Color_Pantalones_Rojo  Color_Pantalones_Verde  \\\n",
       "0                       0                      0                       0   \n",
       "\n",
       "   Color_Chaqueta_Azul  Color_Chaqueta_Negro  Color_Chaqueta_Rojo  \\\n",
       "0                    0                     0                    1   \n",
       "\n",
       "   Color_Chaqueta_Verde  \n",
       "0                     0  \n",
       "\n",
       "[1 rows x 24 columns]"
      ]
     },
     "execution_count": 29,
     "metadata": {},
     "output_type": "execute_result"
    }
   ],
   "source": [
    "nuevo_df = pd.DataFrame(nuevo_dato)\n",
    "nuevo_df"
   ]
  }
 ],
 "metadata": {
  "kernelspec": {
   "display_name": "Python 3",
   "language": "python",
   "name": "python3"
  },
  "language_info": {
   "codemirror_mode": {
    "name": "ipython",
    "version": 3
   },
   "file_extension": ".py",
   "mimetype": "text/x-python",
   "name": "python",
   "nbconvert_exporter": "python",
   "pygments_lexer": "ipython3",
   "version": "3.11.9"
  }
 },
 "nbformat": 4,
 "nbformat_minor": 2
}
